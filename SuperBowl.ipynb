{
 "cells": [
  {
   "cell_type": "code",
   "execution_count": 2,
   "metadata": {},
   "outputs": [],
   "source": [
    "import pandas as pd\n",
    "from matplotlib import pyplot as plt\n",
    "import numpy as np\n",
    "import seaborn as sns"
   ]
  },
  {
   "cell_type": "code",
   "execution_count": 3,
   "metadata": {
    "scrolled": true
   },
   "outputs": [
    {
     "name": "stdout",
     "output_type": "stream",
     "text": [
      "   super_bowl                               musician  num_songs\n",
      "0          52                      Justin Timberlake       11.0\n",
      "1          52  University of Minnesota Marching Band        1.0\n",
      "2          51                              Lady Gaga        7.0\n",
      "3          50                               Coldplay        6.0\n",
      "4          50                                Beyoncé        3.0\n",
      "         date  super_bowl                          venue             city  \\\n",
      "0  2018-02-04          52              U.S. Bank Stadium      Minneapolis   \n",
      "1  2017-02-05          51                    NRG Stadium          Houston   \n",
      "2  2016-02-07          50                 Levi's Stadium      Santa Clara   \n",
      "3  2015-02-01          49  University of Phoenix Stadium         Glendale   \n",
      "4  2014-02-02          48                MetLife Stadium  East Rutherford   \n",
      "\n",
      "        state  attendance           team_winner  winning_pts     qb_winner_1  \\\n",
      "0   Minnesota       67612   Philadelphia Eagles           41      Nick Foles   \n",
      "1       Texas       70807  New England Patriots           34       Tom Brady   \n",
      "2  California       71088        Denver Broncos           24  Peyton Manning   \n",
      "3     Arizona       70288  New England Patriots           28       Tom Brady   \n",
      "4  New Jersey       82529      Seattle Seahawks           43  Russell Wilson   \n",
      "\n",
      "  qb_winner_2    coach_winner            team_loser  losing_pts  \\\n",
      "0         NaN   Doug Pederson  New England Patriots          33   \n",
      "1         NaN  Bill Belichick       Atlanta Falcons          28   \n",
      "2         NaN     Gary Kubiak     Carolina Panthers          10   \n",
      "3         NaN  Bill Belichick      Seattle Seahawks          24   \n",
      "4         NaN    Pete Carroll        Denver Broncos           8   \n",
      "\n",
      "       qb_loser_1 qb_loser_2     coach_loser  combined_pts  difference_pts  \n",
      "0       Tom Brady        NaN  Bill Belichick            74               8  \n",
      "1       Matt Ryan        NaN       Dan Quinn            62               6  \n",
      "2      Cam Newton        NaN      Ron Rivera            34              14  \n",
      "3  Russell Wilson        NaN    Pete Carroll            52               4  \n",
      "4  Peyton Manning        NaN        John Fox            51              35  \n",
      "   super_bowl network  avg_us_viewers  total_us_viewers  rating_household  \\\n",
      "0          52     NBC       103390000               NaN              43.1   \n",
      "1          51     Fox       111319000       172000000.0              45.3   \n",
      "2          50     CBS       111864000       167000000.0              46.6   \n",
      "3          49     NBC       114442000       168000000.0              47.5   \n",
      "4          48     Fox       112191000       167000000.0              46.7   \n",
      "\n",
      "   share_household  rating_18_49  share_18_49  ad_cost  \n",
      "0               68          33.4         78.0  5000000  \n",
      "1               73          37.1         79.0  5000000  \n",
      "2               72          37.7         79.0  5000000  \n",
      "3               71          39.1         79.0  4500000  \n",
      "4               69          39.3         77.0  4000000  \n"
     ]
    }
   ],
   "source": [
    "musicians = pd.read_csv(\"/home/kuggi/repos/mlpractice/TV, Halftime Shows, and the Big Game/datasets/halftime_musicians.csv\")\n",
    "sb = pd.read_csv(\"/home/kuggi/repos/mlpractice/TV, Halftime Shows, and the Big Game/datasets/super_bowls.csv\")\n",
    "tv = pd.read_csv(\"/home/kuggi/repos/mlpractice/TV, Halftime Shows, and the Big Game/datasets/tv.csv\")\n",
    "print (musicians.head())\n",
    "print (sb.head())\n",
    "print (tv.head())"
   ]
  },
  {
   "cell_type": "code",
   "execution_count": 36,
   "metadata": {
    "scrolled": true
   },
   "outputs": [
    {
     "data": {
      "text/html": [
       "<div>\n",
       "<style scoped>\n",
       "    .dataframe tbody tr th:only-of-type {\n",
       "        vertical-align: middle;\n",
       "    }\n",
       "\n",
       "    .dataframe tbody tr th {\n",
       "        vertical-align: top;\n",
       "    }\n",
       "\n",
       "    .dataframe thead th {\n",
       "        text-align: right;\n",
       "    }\n",
       "</style>\n",
       "<table border=\"1\" class=\"dataframe\">\n",
       "  <thead>\n",
       "    <tr style=\"text-align: right;\">\n",
       "      <th></th>\n",
       "      <th>min</th>\n",
       "      <th>max</th>\n",
       "      <th>sum</th>\n",
       "    </tr>\n",
       "    <tr>\n",
       "      <th>state</th>\n",
       "      <th></th>\n",
       "      <th></th>\n",
       "      <th></th>\n",
       "    </tr>\n",
       "  </thead>\n",
       "  <tbody>\n",
       "    <tr>\n",
       "      <td>Arizona</td>\n",
       "      <td>70288</td>\n",
       "      <td>76347</td>\n",
       "      <td>217736</td>\n",
       "    </tr>\n",
       "    <tr>\n",
       "      <td>California</td>\n",
       "      <td>61946</td>\n",
       "      <td>103985</td>\n",
       "      <td>1027619</td>\n",
       "    </tr>\n",
       "    <tr>\n",
       "      <td>Florida</td>\n",
       "      <td>70774</td>\n",
       "      <td>80187</td>\n",
       "      <td>1129973</td>\n",
       "    </tr>\n",
       "    <tr>\n",
       "      <td>Georgia</td>\n",
       "      <td>72625</td>\n",
       "      <td>72817</td>\n",
       "      <td>145442</td>\n",
       "    </tr>\n",
       "    <tr>\n",
       "      <td>Indiana</td>\n",
       "      <td>68658</td>\n",
       "      <td>68658</td>\n",
       "      <td>68658</td>\n",
       "    </tr>\n",
       "    <tr>\n",
       "      <td>Louisiana</td>\n",
       "      <td>71024</td>\n",
       "      <td>81023</td>\n",
       "      <td>758101</td>\n",
       "    </tr>\n",
       "    <tr>\n",
       "      <td>Michigan</td>\n",
       "      <td>68206</td>\n",
       "      <td>81270</td>\n",
       "      <td>149476</td>\n",
       "    </tr>\n",
       "    <tr>\n",
       "      <td>Minnesota</td>\n",
       "      <td>63130</td>\n",
       "      <td>67612</td>\n",
       "      <td>130742</td>\n",
       "    </tr>\n",
       "    <tr>\n",
       "      <td>New Jersey</td>\n",
       "      <td>82529</td>\n",
       "      <td>82529</td>\n",
       "      <td>82529</td>\n",
       "    </tr>\n",
       "    <tr>\n",
       "      <td>Texas</td>\n",
       "      <td>70807</td>\n",
       "      <td>103219</td>\n",
       "      <td>317433</td>\n",
       "    </tr>\n",
       "  </tbody>\n",
       "</table>\n",
       "</div>"
      ],
      "text/plain": [
       "              min     max      sum\n",
       "state                             \n",
       "Arizona     70288   76347   217736\n",
       "California  61946  103985  1027619\n",
       "Florida     70774   80187  1129973\n",
       "Georgia     72625   72817   145442\n",
       "Indiana     68658   68658    68658\n",
       "Louisiana   71024   81023   758101\n",
       "Michigan    68206   81270   149476\n",
       "Minnesota   63130   67612   130742\n",
       "New Jersey  82529   82529    82529\n",
       "Texas       70807  103219   317433"
      ]
     },
     "execution_count": 36,
     "metadata": {},
     "output_type": "execute_result"
    }
   ],
   "source": [
    "sb.head()\n",
    "sb.groupby(\"state\")[\"attendance\"].min()\n",
    "sb.groupby(\"state\")[\"attendance\"].agg([min,max,sum])\n",
    "# sb.groupby([\"team_winner\",\"state\"])[\"winning_pts\"].agg([min,max,sum])\n",
    "# sb.pivot_table(values=\"difference_pts\", index=\"team_winner\", columns=\"team_loser\", fill_value=\"\")\n",
    "# sb.set_index(\"super_bowl\")\n",
    "# sb.reset_index()\n",
    "# # print(temperatures_ind.sort_index(level=[\"country\",\"city\"], ascending=[True,False]))\n",
    "# sb.head()\n",
    "# sb_sort = sb.set_index([\"city\",\"team_winner\"]).sort_index()\n",
    "# sb_sort.head()\n",
    "# sb_sort.loc[\"Atlanta\":\"Detroit\"]\n",
    "# #Slice multi index\n",
    "# sb_sort.loc[(\"Atlanta\",\"St. Louis Rams\"):(\"Detroit\",\"Pittsburgh Steelers\"), \"date\":\"venue\"]\n",
    "# sb_sort.loc[:, \"date\":\"venue\"]\n",
    "\n",
    "# sb.head()\n",
    "# sb_date = sb.set_index(\"date\").sort_index()\n",
    "# sb_date.loc[\"2014\":\"2018-03\"]\n"
   ]
  },
  {
   "cell_type": "code",
   "execution_count": 35,
   "metadata": {},
   "outputs": [
    {
     "data": {
      "text/plain": [
       "state\n",
       "Arizona        5.666667\n",
       "California    19.000000\n",
       "Florida       11.400000\n",
       "Georgia       12.000000\n",
       "Indiana        4.000000\n",
       "Name: difference_pts, dtype: float64"
      ]
     },
     "execution_count": 35,
     "metadata": {},
     "output_type": "execute_result"
    }
   ],
   "source": [
    "sb.head()\n",
    "sbgroups = sb.groupby(\"state\")[\"difference_pts\"].mean()\n",
    "sbgroups.head()"
   ]
  },
  {
   "cell_type": "code",
   "execution_count": null,
   "metadata": {},
   "outputs": [],
   "source": [
    "# # Get the worldwide mean temp by year\n",
    "# mean_temp_by_year = temp_by_country_city_vs_year.mean()\n",
    "\n",
    "# # Find the year that had the highest mean temp\n",
    "# print(mean_temp_by_year[mean_temp_by_year == mean_temp_by_year.max()])\n",
    "\n",
    "# # Get the mean temp by city\n",
    "# mean_temp_by_city = temp_by_country_city_vs_year.mean(axis=\"columns\")\n",
    "\n",
    "# # Find the city that had the lowest mean temp\n",
    "# print(mean_temp_by_city[mean_temp_by_city == mean_temp_by_city.min()])"
   ]
  },
  {
   "cell_type": "code",
   "execution_count": 44,
   "metadata": {},
   "outputs": [
    {
     "data": {
      "text/plain": [
       "<matplotlib.axes._subplots.AxesSubplot at 0x7f93b4871450>"
      ]
     },
     "execution_count": 44,
     "metadata": {},
     "output_type": "execute_result"
    },
    {
     "data": {
      "image/png": "[encoded data removed]",
      "text/plain": [
       "<Figure size 432x288 with 1 Axes>"
      ]
     },
     "metadata": {
      "needs_background": "light"
     },
     "output_type": "display_data"
    }
   ],
   "source": [
    "sb.head()\n",
    "sb.isna().sum().plot(kind=\"bar\",rot=45)\n",
    "sb.dropna() # removes rows with na values\n",
    "sb.fillna(0)"
   ]
  }
 ],
 "metadata": {
  "kernelspec": {
   "display_name": "Python 3",
   "language": "python",
   "name": "python3"
  },
  "language_info": {
   "codemirror_mode": {
    "name": "ipython",
    "version": 3
   },
   "file_extension": ".py",
   "mimetype": "text/x-python",
   "name": "python",
   "nbconvert_exporter": "python",
   "pygments_lexer": "ipython3",
   "version": "3.7.4"
  }
 },
 "nbformat": 4,
 "nbformat_minor": 2
}
